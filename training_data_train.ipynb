{
  "nbformat": 4,
  "nbformat_minor": 0,
  "metadata": {
    "colab": {
      "name": "training_data_train.ipynb",
      "version": "0.3.2",
      "provenance": []
    },
    "kernelspec": {
      "name": "python3",
      "display_name": "Python 3"
    }
  },
  "cells": [
    {
      "cell_type": "code",
      "metadata": {
        "id": "DWpKOzXuvyoh",
        "colab_type": "code",
        "colab": {}
      },
      "source": [
        "import pandas as pd\n",
        "data = pd.read_csv(\"https://github.com/MRummanHasan/Predicting-Diseases-From-Symptoms/raw/master/Manual-Data/Training.csv\")"
      ],
      "execution_count": 0,
      "outputs": []
    },
    {
      "cell_type": "code",
      "metadata": {
        "id": "DGsmJb88w22_",
        "colab_type": "code",
        "colab": {}
      },
      "source": [
        "df = pd.DataFrame(data)"
      ],
      "execution_count": 0,
      "outputs": []
    },
    {
      "cell_type": "code",
      "metadata": {
        "id": "FzZabQ3Vw4pz",
        "colab_type": "code",
        "colab": {}
      },
      "source": [
        "cols = df.columns\n",
        "cols = cols[:-1]"
      ],
      "execution_count": 0,
      "outputs": []
    },
    {
      "cell_type": "code",
      "metadata": {
        "id": "VOgEd-4xw6BJ",
        "colab_type": "code",
        "colab": {}
      },
      "source": [
        "x = df[cols]\n",
        "y = df['prognosis']"
      ],
      "execution_count": 0,
      "outputs": []
    },
    {
      "cell_type": "code",
      "metadata": {
        "id": "GUalAu4Ox-nR",
        "colab_type": "code",
        "outputId": "bbf70c41-0dd6-47f7-ab5b-a1daee7d588d",
        "colab": {
          "base_uri": "https://localhost:8080/",
          "height": 374
        }
      },
      "source": [
        "!pip install scikit-learn==0.17.1"
      ],
      "execution_count": 0,
      "outputs": [
        {
          "output_type": "stream",
          "text": [
            "Collecting scikit-learn==0.17.1\n",
            "\u001b[?25l  Downloading https://files.pythonhosted.org/packages/0d/1d/9c775f9403565f68aa23f9cef76c817a7115abd7ca1e1c5958a68c49fb6f/scikit-learn-0.17.1.tar.gz (7.9MB)\n",
            "\u001b[K    100% |████████████████████████████████| 7.9MB 1.0MB/s \n",
            "\u001b[?25hBuilding wheels for collected packages: scikit-learn\n",
            "  Building wheel for scikit-learn (setup.py) ... \u001b[?25ldone\n",
            "\u001b[?25h  Stored in directory: /root/.cache/pip/wheels/17/68/59/e7417b53bb95a8bbbf17f8ab90fa1b8e985141e76de1d110b7\n",
            "Successfully built scikit-learn\n",
            "\u001b[31myellowbrick 0.9.1 has requirement scikit-learn>=0.20, but you'll have scikit-learn 0.17.1 which is incompatible.\u001b[0m\n",
            "\u001b[31mmlxtend 0.14.0 has requirement scikit-learn>=0.18, but you'll have scikit-learn 0.17.1 which is incompatible.\u001b[0m\n",
            "\u001b[31mimbalanced-learn 0.4.3 has requirement scikit-learn>=0.20, but you'll have scikit-learn 0.17.1 which is incompatible.\u001b[0m\n",
            "\u001b[31mfancyimpute 0.4.3 has requirement scikit-learn>=0.19.1, but you'll have scikit-learn 0.17.1 which is incompatible.\u001b[0m\n",
            "Installing collected packages: scikit-learn\n",
            "  Found existing installation: scikit-learn 0.20.3\n",
            "    Uninstalling scikit-learn-0.20.3:\n",
            "      Successfully uninstalled scikit-learn-0.20.3\n",
            "Successfully installed scikit-learn-0.17.1\n"
          ],
          "name": "stdout"
        },
        {
          "output_type": "display_data",
          "data": {
            "application/vnd.colab-display-data+json": {
              "pip_warning": {
                "packages": [
                  "sklearn"
                ]
              }
            }
          },
          "metadata": {
            "tags": []
          }
        }
      ]
    },
    {
      "cell_type": "code",
      "metadata": {
        "id": "U9VXge0Aw-zf",
        "colab_type": "code",
        "colab": {}
      },
      "source": [
        "from sklearn.cross_validation import train_test_split\n",
        "\n",
        "x_train, x_test, y_train, y_test = train_test_split(x, y, test_size=0.33, random_state=42)"
      ],
      "execution_count": 0,
      "outputs": []
    },
    {
      "cell_type": "code",
      "metadata": {
        "id": "QeXz_p2VyuDh",
        "colab_type": "code",
        "colab": {}
      },
      "source": [
        "from sklearn.naive_bayes import MultinomialNB\n",
        "\n",
        "mnb = MultinomialNB()"
      ],
      "execution_count": 0,
      "outputs": []
    },
    {
      "cell_type": "code",
      "metadata": {
        "id": "hMMe7Aj6yyeZ",
        "colab_type": "code",
        "colab": {}
      },
      "source": [
        "mnb = mnb.fit(x_train, y_train)"
      ],
      "execution_count": 0,
      "outputs": []
    },
    {
      "cell_type": "code",
      "metadata": {
        "id": "Xf2VVp7wy22i",
        "colab_type": "code",
        "outputId": "26a1d0b1-785c-4c71-945a-eedb7aa3f858",
        "colab": {
          "base_uri": "https://localhost:8080/",
          "height": 34
        }
      },
      "source": [
        "mnb.score(x_test, y_test)"
      ],
      "execution_count": 0,
      "outputs": [
        {
          "output_type": "execute_result",
          "data": {
            "text/plain": [
              "1.0"
            ]
          },
          "metadata": {
            "tags": []
          },
          "execution_count": 8
        }
      ]
    },
    {
      "cell_type": "code",
      "metadata": {
        "id": "TOdtk3MFy7pt",
        "colab_type": "code",
        "outputId": "cf6762c6-e81b-4dd2-ad5c-6dcc5660bbc6",
        "colab": {
          "base_uri": "https://localhost:8080/",
          "height": 68
        }
      },
      "source": [
        "from sklearn import cross_validation\n",
        "print (\"cross result========\")\n",
        "scores = cross_validation.cross_val_score(mnb, x_test, y_test, cv=3)\n",
        "print (scores)\n",
        "print (scores.mean())"
      ],
      "execution_count": 0,
      "outputs": [
        {
          "output_type": "stream",
          "text": [
            "cross result========\n",
            "[1. 1. 1.]\n",
            "1.0\n"
          ],
          "name": "stdout"
        }
      ]
    }
  ]
}